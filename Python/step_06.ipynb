{
 "cells": [
  {
   "cell_type": "code",
   "execution_count": 30,
   "metadata": {},
   "outputs": [],
   "source": [
    "class Product:\n",
    "    def __init__(self,name:str=\"Default\", price:float=0, quantity:int=1) -> None:\n",
    "        print(f\"an instance with name: {name} has been derived from Product class.\")\n",
    "        \n",
    "        self.__name = name\n",
    "        self.__price = price\n",
    "        self.__quantity = quantity\n",
    "        \n",
    "    @property\n",
    "    def name(self):\n",
    "        return self.__name\n",
    "    \n",
    "    @name.setter\n",
    "    def name(self, value:str) -> None:\n",
    "        self.__name = value\n",
    "    \n",
    "    @property\n",
    "    def price(self):\n",
    "        return self.__price\n",
    "    \n",
    "    @price.setter\n",
    "    def price(self, value):\n",
    "        self.__price = value\n",
    "        \n",
    "    @property\n",
    "    def quantity(self):\n",
    "        return self.__quantity\n",
    "    \n",
    "    @quantity.setter\n",
    "    def quantity(self, value):\n",
    "          self.__quantity = value  \n",
    "        \n",
    "    def get_total_price(self) -> None:\n",
    "        return self.__price * self.__quantity\n",
    "        \n",
    "        "
   ]
  },
  {
   "cell_type": "code",
   "execution_count": 31,
   "metadata": {},
   "outputs": [
    {
     "name": "stdout",
     "output_type": "stream",
     "text": [
      "an instance with name: Laptop has been derived from Product class.\n",
      "HP Laptop\n",
      "799.99\n",
      "2\n",
      "1599.98\n"
     ]
    }
   ],
   "source": [
    "item1 = Product(\"Laptop\", 799.99,2)\n",
    "item1.name = \"HP Laptop\"\n",
    "print(item1.name)\n",
    "print(item1.price)\n",
    "print(item1.quantity)\n",
    "print(item1.get_total_price())"
   ]
  },
  {
   "cell_type": "code",
   "execution_count": 32,
   "metadata": {},
   "outputs": [
    {
     "name": "stdout",
     "output_type": "stream",
     "text": [
      "an instance with name: Default has been derived from Product class.\n"
     ]
    }
   ],
   "source": [
    "item2 = Product()\n",
    "\n",
    "#  dinamik özellik tanım\n",
    "item2.__name = \"Computer\"\n",
    "item2.__price = 1999.99\n",
    "item2.__quantity = 3"
   ]
  },
  {
   "cell_type": "code",
   "execution_count": 33,
   "metadata": {},
   "outputs": [
    {
     "name": "stdout",
     "output_type": "stream",
     "text": [
      "Default\n",
      "0\n",
      "1\n"
     ]
    }
   ],
   "source": [
    "print(item2.name)\n",
    "print(item2.price)\n",
    "print(item2.quantity)"
   ]
  },
  {
   "cell_type": "code",
   "execution_count": 34,
   "metadata": {},
   "outputs": [
    {
     "name": "stdout",
     "output_type": "stream",
     "text": [
      "an instance with name: Keyboard has been derived from Product class.\n",
      "Keyboard\n",
      "25.99\n",
      "1\n"
     ]
    }
   ],
   "source": [
    "item3 = Product(\"Keyboard\",25.99)\n",
    "print(item3.name)\n",
    "print(item3.price)\n",
    "print(item3.quantity)"
   ]
  },
  {
   "cell_type": "code",
   "execution_count": null,
   "metadata": {},
   "outputs": [],
   "source": []
  }
 ],
 "metadata": {
  "kernelspec": {
   "display_name": "Python 3",
   "language": "python",
   "name": "python3"
  },
  "language_info": {
   "codemirror_mode": {
    "name": "ipython",
    "version": 3
   },
   "file_extension": ".py",
   "mimetype": "text/x-python",
   "name": "python",
   "nbconvert_exporter": "python",
   "pygments_lexer": "ipython3",
   "version": "3.12.0"
  }
 },
 "nbformat": 4,
 "nbformat_minor": 2
}
