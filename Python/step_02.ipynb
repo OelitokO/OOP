{
 "cells": [
  {
   "cell_type": "code",
   "execution_count": 1,
   "metadata": {},
   "outputs": [],
   "source": [
    "class Product:\n",
    "    pass"
   ]
  },
  {
   "cell_type": "code",
   "execution_count": 6,
   "metadata": {},
   "outputs": [],
   "source": [
    "item1 = Product()\n",
    "\n",
    "#  dinamik özellik tanım\n",
    "item1.name = \"Laptop\"\n",
    "item1.price = 799.99\n",
    "item1.quantity = 2"
   ]
  },
  {
   "cell_type": "code",
   "execution_count": 3,
   "metadata": {},
   "outputs": [
    {
     "name": "stdout",
     "output_type": "stream",
     "text": [
      "<__main__.Product object at 0x0000016636870E60>\n",
      "Laptop\n",
      "799.99\n",
      "2\n"
     ]
    }
   ],
   "source": [
    "print(item1)\n",
    "print(item1.name)\n",
    "print(item1.price)\n",
    "print(item1.quantity)"
   ]
  },
  {
   "cell_type": "code",
   "execution_count": 4,
   "metadata": {},
   "outputs": [
    {
     "name": "stdout",
     "output_type": "stream",
     "text": [
      "<class '__main__.Product'>\n",
      "<class 'str'>\n",
      "<class 'float'>\n",
      "<class 'int'>\n"
     ]
    }
   ],
   "source": [
    "print(type(item1))\n",
    "print(type(item1.name))\n",
    "print(type(item1.price))\n",
    "print(type(item1.quantity))"
   ]
  },
  {
   "cell_type": "code",
   "execution_count": 5,
   "metadata": {},
   "outputs": [],
   "source": [
    "item2 = Product()\n",
    "item2.name = \"Computer\"\n",
    "item2.price = 1999.99\n",
    "item2.quantity = 3"
   ]
  }
 ],
 "metadata": {
  "kernelspec": {
   "display_name": "Python 3",
   "language": "python",
   "name": "python3"
  },
  "language_info": {
   "codemirror_mode": {
    "name": "ipython",
    "version": 3
   },
   "file_extension": ".py",
   "mimetype": "text/x-python",
   "name": "python",
   "nbconvert_exporter": "python",
   "pygments_lexer": "ipython3",
   "version": "3.12.0"
  }
 },
 "nbformat": 4,
 "nbformat_minor": 2
}
