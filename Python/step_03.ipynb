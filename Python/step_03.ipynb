{
 "cells": [
  {
   "cell_type": "code",
   "execution_count": 3,
   "metadata": {},
   "outputs": [],
   "source": [
    "class Product:\n",
    "    pass"
   ]
  },
  {
   "cell_type": "code",
   "execution_count": 1,
   "metadata": {},
   "outputs": [],
   "source": [
    "item1 = Product()\n",
    "item1.name = \"Laptop\"\n",
    "item1.price = 799.99\n",
    "item1.quantity = 2"
   ]
  },
  {
   "cell_type": "code",
   "execution_count": 7,
   "metadata": {},
   "outputs": [
    {
     "ename": "NameError",
     "evalue": "name 'item1' is not defined",
     "output_type": "error",
     "traceback": [
      "\u001b[1;31m---------------------------------------------------------------------------\u001b[0m",
      "\u001b[1;31mNameError\u001b[0m                                 Traceback (most recent call last)",
      "\u001b[1;32mc:\\Users\\ahmet\\OneDrive\\Masaüstü\\OOP\\Python\\step_02.ipynb Cell 3\u001b[0m line \u001b[0;36m1\n\u001b[1;32m----> <a href='vscode-notebook-cell:/c%3A/Users/ahmet/OneDrive/Masa%C3%BCst%C3%BC/OOP/Python/step_02.ipynb#W2sZmlsZQ%3D%3D?line=0'>1</a>\u001b[0m \u001b[39mprint\u001b[39m(item1)\n\u001b[0;32m      <a href='vscode-notebook-cell:/c%3A/Users/ahmet/OneDrive/Masa%C3%BCst%C3%BC/OOP/Python/step_02.ipynb#W2sZmlsZQ%3D%3D?line=1'>2</a>\u001b[0m \u001b[39mprint\u001b[39m(item1_name)\n\u001b[0;32m      <a href='vscode-notebook-cell:/c%3A/Users/ahmet/OneDrive/Masa%C3%BCst%C3%BC/OOP/Python/step_02.ipynb#W2sZmlsZQ%3D%3D?line=2'>3</a>\u001b[0m \u001b[39mprint\u001b[39m(item1_price)\n",
      "\u001b[1;31mNameError\u001b[0m: name 'item1' is not defined"
     ]
    }
   ],
   "source": [
    "print(item1)\n",
    "print(item1_name)\n",
    "print(item1_price)\n",
    "print(item1_quantity)"
   ]
  },
  {
   "cell_type": "code",
   "execution_count": 3,
   "metadata": {},
   "outputs": [
    {
     "name": "stdout",
     "output_type": "stream",
     "text": [
      "<class 'str'>\n",
      "<class 'float'>\n",
      "<class 'int'>\n"
     ]
    }
   ],
   "source": [
    "print(type(item1))\n",
    "print(type(item1_name))\n",
    "print(type(item1_price))\n",
    "print(type(item1_quantity))"
   ]
  },
  {
   "cell_type": "code",
   "execution_count": 2,
   "metadata": {},
   "outputs": [],
   "source": [
    "item1_name = \"Computer\"\n",
    "item1_price = 1999.99\n",
    "item1_quantity = 3"
   ]
  }
 ],
 "metadata": {
  "kernelspec": {
   "display_name": "Python 3",
   "language": "python",
   "name": "python3"
  },
  "language_info": {
   "codemirror_mode": {
    "name": "ipython",
    "version": 3
   },
   "file_extension": ".py",
   "mimetype": "text/x-python",
   "name": "python",
   "nbconvert_exporter": "python",
   "pygments_lexer": "ipython3",
   "version": "3.12.0"
  }
 },
 "nbformat": 4,
 "nbformat_minor": 2
}
